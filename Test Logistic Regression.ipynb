{
 "cells": [
  {
   "cell_type": "code",
   "execution_count": null,
   "metadata": {},
   "outputs": [],
   "source": [
    "import pandas as pd\n",
    "import numpy as np\n",
    "import feather\n",
    "from sklearn.metrics import (auc,accuracy_score, average_precision_score,\n",
    "                             balanced_accuracy_score,roc_auc_score,\n",
    "                            roc_curve)\n",
    "from sklearn.ensemble import RandomForestClassifier\n",
    "from sklearn.linear_model import LogisticRegression\n",
    "from sklearn.preprocessing import LabelEncoder\n",
    "import xgboost as xgb\n",
    "from sklearn.model_selection import train_test_split,RandomizedSearchCV,KFold\n",
    "import matplotlib.pyplot as plt\n",
    "import re\n",
    "import pickle\n",
    "import lightgbm as lgb\n",
    "from hyperopt import STATUS_OK\n",
    "from hyperopt import hp,tpe,Trials,fmin\n",
    "import csv\n",
    "from timeit import default_timer as timer\n",
    "import random\n",
    "import patsy\n",
    "\n"
   ]
  },
  {
   "cell_type": "code",
   "execution_count": 2,
   "metadata": {},
   "outputs": [],
   "source": [
    "df_one_hot = feather.read_dataframe(\"df_train_one_hot.feather\")"
   ]
  },
  {
   "cell_type": "code",
   "execution_count": null,
   "metadata": {},
   "outputs": [],
   "source": [
    "df_one_hot.isnull().sum()"
   ]
  },
  {
   "cell_type": "markdown",
   "metadata": {},
   "source": [
    "## Need to replace all nulls, going to replace with the rest of distirbution of null values in their given column"
   ]
  },
  {
   "cell_type": "code",
   "execution_count": 5,
   "metadata": {},
   "outputs": [],
   "source": [
    "for col in df_one_hot.columns:\n",
    "    dist = df_one_hot[col].value_counts(normalize=True,dropna=True)\n",
    "    missing = df_one_hot[col].isnull()\n",
    "    df_one_hot.loc[missing,col] = np.random.choice(dist.index,\n",
    "                                               size=len(df_one_hot[missing]),\n",
    "                                              p=dist.values)\n",
    "    "
   ]
  },
  {
   "cell_type": "code",
   "execution_count": 6,
   "metadata": {},
   "outputs": [
    {
     "data": {
      "text/plain": [
       "SK_ID_CURR                                                 0\n",
       "TARGET                                                     0\n",
       "CNT_CHILDREN                                               0\n",
       "AMT_INCOME_TOTAL                                           0\n",
       "AMT_CREDIT                                                 0\n",
       "AMT_ANNUITY                                                0\n",
       "AMT_GOODS_PRICE                                            0\n",
       "REGION_POPULATION_RELATIVE                                 0\n",
       "DAYS_BIRTH                                                 0\n",
       "DAYS_EMPLOYED                                              0\n",
       "DAYS_REGISTRATION                                          0\n",
       "DAYS_ID_PUBLISH                                            0\n",
       "OWN_CAR_AGE                                                0\n",
       "FLAG_MOBIL                                                 0\n",
       "FLAG_EMP_PHONE                                             0\n",
       "FLAG_WORK_PHONE                                            0\n",
       "FLAG_CONT_MOBILE                                           0\n",
       "FLAG_PHONE                                                 0\n",
       "FLAG_EMAIL                                                 0\n",
       "CNT_FAM_MEMBERS                                            0\n",
       "REGION_RATING_CLIENT                                       0\n",
       "REGION_RATING_CLIENT_W_CITY                                0\n",
       "HOUR_APPR_PROCESS_START                                    0\n",
       "REG_REGION_NOT_LIVE_REGION                                 0\n",
       "REG_REGION_NOT_WORK_REGION                                 0\n",
       "LIVE_REGION_NOT_WORK_REGION                                0\n",
       "REG_CITY_NOT_LIVE_CITY                                     0\n",
       "REG_CITY_NOT_WORK_CITY                                     0\n",
       "LIVE_CITY_NOT_WORK_CITY                                    0\n",
       "EXT_SOURCE_1                                               0\n",
       "                                                          ..\n",
       "PRODUCT_COMBINATION_Cash Street: low_mean                  0\n",
       "PRODUCT_COMBINATION_Cash Street: middle_mean               0\n",
       "PRODUCT_COMBINATION_Cash X-Sell: high_mean                 0\n",
       "PRODUCT_COMBINATION_Cash X-Sell: low_mean                  0\n",
       "PRODUCT_COMBINATION_Cash X-Sell: middle_mean               0\n",
       "PRODUCT_COMBINATION_POS household with interest_mean       0\n",
       "PRODUCT_COMBINATION_POS household without interest_mean    0\n",
       "PRODUCT_COMBINATION_POS industry with interest_mean        0\n",
       "PRODUCT_COMBINATION_POS industry without interest_mean     0\n",
       "PRODUCT_COMBINATION_POS mobile with interest_mean          0\n",
       "PRODUCT_COMBINATION_POS mobile without interest_mean       0\n",
       "PRODUCT_COMBINATION_POS other with interest_mean           0\n",
       "PRODUCT_COMBINATION_POS others without interest_mean       0\n",
       "PRODUCT_COMBINATION_nan_mean                               0\n",
       "MONTHS_BALANCE_max_y                                       0\n",
       "MONTHS_BALANCE_mean_y                                      0\n",
       "MONTHS_BALANCE_min_y                                       0\n",
       "SK_DPD_max_y                                               0\n",
       "SK_DPD_mean_y                                              0\n",
       "SK_DPD_DEF_max_y                                           0\n",
       "SK_DPD_DEF_mean_y                                          0\n",
       "NAME_CONTRACT_STATUS_Amortized debt_mean                   0\n",
       "NAME_CONTRACT_STATUS_Approved_mean_y                       0\n",
       "NAME_CONTRACT_STATUS_Canceled_mean_y                       0\n",
       "NAME_CONTRACT_STATUS_Completed_mean_y                      0\n",
       "NAME_CONTRACT_STATUS_Demand_mean_y                         0\n",
       "NAME_CONTRACT_STATUS_Returned to the store_mean            0\n",
       "NAME_CONTRACT_STATUS_Signed_mean_y                         0\n",
       "NAME_CONTRACT_STATUS_XNA_mean                              0\n",
       "NAME_CONTRACT_STATUS_nan_mean                              0\n",
       "Length: 594, dtype: int64"
      ]
     },
     "execution_count": 6,
     "metadata": {},
     "output_type": "execute_result"
    }
   ],
   "source": [
    "df_one_hot.isna().sum()"
   ]
  },
  {
   "cell_type": "code",
   "execution_count": 7,
   "metadata": {},
   "outputs": [],
   "source": [
    "df_one_hot =df_one_hot[~df_one_hot.isin([np.nan, np.inf, -np.inf]).any(1)]"
   ]
  },
  {
   "cell_type": "code",
   "execution_count": 8,
   "metadata": {},
   "outputs": [
    {
     "data": {
      "text/plain": [
       "(307489, 594)"
      ]
     },
     "execution_count": 8,
     "metadata": {},
     "output_type": "execute_result"
    }
   ],
   "source": [
    "df_one_hot.shape"
   ]
  },
  {
   "cell_type": "markdown",
   "metadata": {},
   "source": [
    "## Features list generated from feature importances of tree based models, going to use the set of top 20 for RF, XGBoost, and LGBM Boost (42 features) as starting point"
   ]
  },
  {
   "cell_type": "code",
   "execution_count": 16,
   "metadata": {},
   "outputs": [],
   "source": [
    "with open (\"top_feature_importances.pkl\", 'rb') as f:\n",
    "    top = pickle.load(f)"
   ]
  },
  {
   "cell_type": "code",
   "execution_count": 17,
   "metadata": {},
   "outputs": [
    {
     "data": {
      "text/plain": [
       "['DAYS_EMPLOYED',\n",
       " 'CODE_GENDER_M',\n",
       " 'AMT_GOODS_PRICE',\n",
       " 'DAYS_CREDIT_min',\n",
       " 'LIVINGAREA_AVG',\n",
       " 'Income_Credit_Ratio',\n",
       " 'DAYS_ENTRY_PAYMENT_max',\n",
       " 'NAME_EDUCATION_TYPE_Higher education',\n",
       " 'DAYS_CREDIT_UPDATE_max',\n",
       " 'DAYS_ID_PUBLISH',\n",
       " 'CREDIT_ACTIVE_Closed_mean',\n",
       " 'DAYS_CREDIT_ENDDATE_min',\n",
       " 'NAME_INCOME_TYPE_Working',\n",
       " 'SK_DPD_DEF_mean_y',\n",
       " 'DAYS_CREDIT_ENDDATE_mean',\n",
       " 'AMT_INSTALMENT_max',\n",
       " 'DAYS_BIRTH',\n",
       " 'APP_CREDIT_PERC_max',\n",
       " 'AMT_PAYMENT_min',\n",
       " 'PAYMENT_PERC_mean',\n",
       " 'MONTHS_BALANCE_max_y',\n",
       " 'NAME_CONTRACT_STATUS_Refused_mean_y',\n",
       " 'DAYS_CREDIT_UPDATE_mean',\n",
       " 'DAYS_CREDIT_max',\n",
       " 'DAYS_ENTRY_PAYMENT_sum',\n",
       " 'NAME_CONTRACT_TYPE_Revolving loans_mean',\n",
       " 'EXT_SOURCE_2',\n",
       " 'Annuity_Income_Ratio',\n",
       " 'CNT_PAYMENT_mean',\n",
       " 'APP_CREDIT_PERC_mean',\n",
       " 'DAYS_ENTRY_PAYMENT_mean',\n",
       " 'AMT_PAYMENT_sum',\n",
       " 'DAYS_REGISTRATION',\n",
       " 'AMT_DOWN_PAYMENT_max',\n",
       " 'EXT_SOURCE_1',\n",
       " 'EXT_SOURCE_3',\n",
       " 'AMT_CREDIT',\n",
       " 'DAYS_DECISION_mean',\n",
       " 'DAYS_CREDIT_mean',\n",
       " 'DAYS_CREDIT_ENDDATE_max',\n",
       " 'FLAG_DOCUMENT_3',\n",
       " 'AMT_ANNUITY']"
      ]
     },
     "execution_count": 17,
     "metadata": {},
     "output_type": "execute_result"
    }
   ],
   "source": [
    "top"
   ]
  },
  {
   "cell_type": "code",
   "execution_count": 20,
   "metadata": {},
   "outputs": [],
   "source": [
    "df_model_logistic = df_one_hot[['TARGET']+top]"
   ]
  },
  {
   "cell_type": "code",
   "execution_count": 21,
   "metadata": {},
   "outputs": [
    {
     "data": {
      "text/plain": [
       "(307489, 43)"
      ]
     },
     "execution_count": 21,
     "metadata": {},
     "output_type": "execute_result"
    }
   ],
   "source": [
    "df_model_logistic.shape"
   ]
  },
  {
   "cell_type": "code",
   "execution_count": 22,
   "metadata": {},
   "outputs": [
    {
     "name": "stderr",
     "output_type": "stream",
     "text": [
      "/home/ubuntu/anaconda3/envs/ds_env/lib/python3.7/site-packages/sklearn/linear_model/sag.py:337: ConvergenceWarning: The max_iter was reached which means the coef_ did not converge\n",
      "  \"the coef_ did not converge\", ConvergenceWarning)\n"
     ]
    }
   ],
   "source": [
    "X = df_model_logistic.drop(['TARGET'],axis=1)\n",
    "y = df_one_hot['TARGET'].values"
   ]
  },
  {
   "cell_type": "code",
   "execution_count": 23,
   "metadata": {},
   "outputs": [],
   "source": [
    "X_train, X_test,y_train,y_test = train_test_split(X,y)"
   ]
  },
  {
   "cell_type": "code",
   "execution_count": 24,
   "metadata": {},
   "outputs": [],
   "source": [
    "del X,y"
   ]
  },
  {
   "cell_type": "code",
   "execution_count": 25,
   "metadata": {},
   "outputs": [],
   "source": [
    "penalties=['l1','l2','elasticnet']"
   ]
  },
  {
   "cell_type": "code",
   "execution_count": 36,
   "metadata": {},
   "outputs": [
    {
     "name": "stdout",
     "output_type": "stream",
     "text": [
      "Logistic Regression with penalty: l1\n",
      "Score:0.6134042481373325\n",
      "\n"
     ]
    },
    {
     "name": "stderr",
     "output_type": "stream",
     "text": [
      "/home/ubuntu/anaconda3/envs/ds_env/lib/python3.7/site-packages/sklearn/linear_model/sag.py:337: ConvergenceWarning: The max_iter was reached which means the coef_ did not converge\n",
      "  \"the coef_ did not converge\", ConvergenceWarning)\n"
     ]
    }
   ],
   "source": [
    "model = LogisticRegression(penalty='l1',solver='saga',\n",
    "                               n_jobs=-1,max_iter=200)\n",
    "model.fit(X_train,y_train)\n",
    "preds = model.predict_proba(X_test)[:,1]\n",
    "auc = roc_auc_score(y_test,preds)\n",
    "print(f\"Logistic Regression with penalty: {penalty}\\nScore:{auc}\\n\")\n",
    "    "
   ]
  },
  {
   "cell_type": "code",
   "execution_count": 37,
   "metadata": {},
   "outputs": [],
   "source": [
    "df_coefs = pd.concat([pd.DataFrame(X_train.columns),pd.DataFrame(np.transpose(model.coef_))], axis = 1)\n",
    "\n"
   ]
  },
  {
   "cell_type": "code",
   "execution_count": 38,
   "metadata": {},
   "outputs": [
    {
     "data": {
      "text/html": [
       "<div>\n",
       "<style scoped>\n",
       "    .dataframe tbody tr th:only-of-type {\n",
       "        vertical-align: middle;\n",
       "    }\n",
       "\n",
       "    .dataframe tbody tr th {\n",
       "        vertical-align: top;\n",
       "    }\n",
       "\n",
       "    .dataframe thead th {\n",
       "        text-align: right;\n",
       "    }\n",
       "</style>\n",
       "<table border=\"1\" class=\"dataframe\">\n",
       "  <thead>\n",
       "    <tr style=\"text-align: right;\">\n",
       "      <th></th>\n",
       "      <th>0</th>\n",
       "      <th>0</th>\n",
       "    </tr>\n",
       "  </thead>\n",
       "  <tbody>\n",
       "    <tr>\n",
       "      <th>0</th>\n",
       "      <td>DAYS_EMPLOYED</td>\n",
       "      <td>-9.570122e-07</td>\n",
       "    </tr>\n",
       "    <tr>\n",
       "      <th>1</th>\n",
       "      <td>CODE_GENDER_M</td>\n",
       "      <td>-4.912026e-10</td>\n",
       "    </tr>\n",
       "    <tr>\n",
       "      <th>2</th>\n",
       "      <td>AMT_GOODS_PRICE</td>\n",
       "      <td>-3.561878e-06</td>\n",
       "    </tr>\n",
       "    <tr>\n",
       "      <th>3</th>\n",
       "      <td>DAYS_CREDIT_min</td>\n",
       "      <td>-2.449316e-06</td>\n",
       "    </tr>\n",
       "    <tr>\n",
       "      <th>4</th>\n",
       "      <td>LIVINGAREA_AVG</td>\n",
       "      <td>-4.362840e-10</td>\n",
       "    </tr>\n",
       "  </tbody>\n",
       "</table>\n",
       "</div>"
      ],
      "text/plain": [
       "                 0             0\n",
       "0    DAYS_EMPLOYED -9.570122e-07\n",
       "1    CODE_GENDER_M -4.912026e-10\n",
       "2  AMT_GOODS_PRICE -3.561878e-06\n",
       "3  DAYS_CREDIT_min -2.449316e-06\n",
       "4   LIVINGAREA_AVG -4.362840e-10"
      ]
     },
     "execution_count": 38,
     "metadata": {},
     "output_type": "execute_result"
    }
   ],
   "source": [
    "df_coefs.head()"
   ]
  },
  {
   "cell_type": "code",
   "execution_count": 39,
   "metadata": {},
   "outputs": [],
   "source": [
    "df_coefs.columns = ['Feature', \"Coeff.\"]"
   ]
  },
  {
   "cell_type": "code",
   "execution_count": 41,
   "metadata": {},
   "outputs": [
    {
     "data": {
      "text/html": [
       "<div>\n",
       "<style scoped>\n",
       "    .dataframe tbody tr th:only-of-type {\n",
       "        vertical-align: middle;\n",
       "    }\n",
       "\n",
       "    .dataframe tbody tr th {\n",
       "        vertical-align: top;\n",
       "    }\n",
       "\n",
       "    .dataframe thead th {\n",
       "        text-align: right;\n",
       "    }\n",
       "</style>\n",
       "<table border=\"1\" class=\"dataframe\">\n",
       "  <thead>\n",
       "    <tr style=\"text-align: right;\">\n",
       "      <th></th>\n",
       "      <th>Feature</th>\n",
       "      <th>Coeff.</th>\n",
       "    </tr>\n",
       "  </thead>\n",
       "  <tbody>\n",
       "    <tr>\n",
       "      <th>11</th>\n",
       "      <td>DAYS_CREDIT_ENDDATE_min</td>\n",
       "      <td>4.349471e-06</td>\n",
       "    </tr>\n",
       "    <tr>\n",
       "      <th>36</th>\n",
       "      <td>AMT_CREDIT</td>\n",
       "      <td>2.680843e-06</td>\n",
       "    </tr>\n",
       "    <tr>\n",
       "      <th>14</th>\n",
       "      <td>DAYS_CREDIT_ENDDATE_mean</td>\n",
       "      <td>7.173220e-07</td>\n",
       "    </tr>\n",
       "    <tr>\n",
       "      <th>15</th>\n",
       "      <td>AMT_INSTALMENT_max</td>\n",
       "      <td>4.423382e-07</td>\n",
       "    </tr>\n",
       "    <tr>\n",
       "      <th>13</th>\n",
       "      <td>SK_DPD_DEF_mean_y</td>\n",
       "      <td>2.013062e-09</td>\n",
       "    </tr>\n",
       "    <tr>\n",
       "      <th>21</th>\n",
       "      <td>NAME_CONTRACT_STATUS_Refused_mean_y</td>\n",
       "      <td>8.360818e-11</td>\n",
       "    </tr>\n",
       "    <tr>\n",
       "      <th>25</th>\n",
       "      <td>NAME_CONTRACT_TYPE_Revolving loans_mean</td>\n",
       "      <td>-2.186760e-10</td>\n",
       "    </tr>\n",
       "    <tr>\n",
       "      <th>27</th>\n",
       "      <td>Annuity_Income_Ratio</td>\n",
       "      <td>-2.991159e-10</td>\n",
       "    </tr>\n",
       "    <tr>\n",
       "      <th>4</th>\n",
       "      <td>LIVINGAREA_AVG</td>\n",
       "      <td>-4.362840e-10</td>\n",
       "    </tr>\n",
       "    <tr>\n",
       "      <th>1</th>\n",
       "      <td>CODE_GENDER_M</td>\n",
       "      <td>-4.912026e-10</td>\n",
       "    </tr>\n",
       "    <tr>\n",
       "      <th>7</th>\n",
       "      <td>NAME_EDUCATION_TYPE_Higher education</td>\n",
       "      <td>-1.581942e-09</td>\n",
       "    </tr>\n",
       "    <tr>\n",
       "      <th>40</th>\n",
       "      <td>FLAG_DOCUMENT_3</td>\n",
       "      <td>-1.954518e-09</td>\n",
       "    </tr>\n",
       "    <tr>\n",
       "      <th>34</th>\n",
       "      <td>EXT_SOURCE_1</td>\n",
       "      <td>-2.079779e-09</td>\n",
       "    </tr>\n",
       "    <tr>\n",
       "      <th>12</th>\n",
       "      <td>NAME_INCOME_TYPE_Working</td>\n",
       "      <td>-2.198605e-09</td>\n",
       "    </tr>\n",
       "    <tr>\n",
       "      <th>10</th>\n",
       "      <td>CREDIT_ACTIVE_Closed_mean</td>\n",
       "      <td>-2.714398e-09</td>\n",
       "    </tr>\n",
       "    <tr>\n",
       "      <th>35</th>\n",
       "      <td>EXT_SOURCE_3</td>\n",
       "      <td>-2.763306e-09</td>\n",
       "    </tr>\n",
       "    <tr>\n",
       "      <th>26</th>\n",
       "      <td>EXT_SOURCE_2</td>\n",
       "      <td>-2.794297e-09</td>\n",
       "    </tr>\n",
       "    <tr>\n",
       "      <th>5</th>\n",
       "      <td>Income_Credit_Ratio</td>\n",
       "      <td>-3.019670e-09</td>\n",
       "    </tr>\n",
       "    <tr>\n",
       "      <th>19</th>\n",
       "      <td>PAYMENT_PERC_mean</td>\n",
       "      <td>-3.814827e-09</td>\n",
       "    </tr>\n",
       "    <tr>\n",
       "      <th>29</th>\n",
       "      <td>APP_CREDIT_PERC_mean</td>\n",
       "      <td>-3.882772e-09</td>\n",
       "    </tr>\n",
       "    <tr>\n",
       "      <th>17</th>\n",
       "      <td>APP_CREDIT_PERC_max</td>\n",
       "      <td>-4.166884e-09</td>\n",
       "    </tr>\n",
       "    <tr>\n",
       "      <th>28</th>\n",
       "      <td>CNT_PAYMENT_mean</td>\n",
       "      <td>-3.380435e-08</td>\n",
       "    </tr>\n",
       "    <tr>\n",
       "      <th>31</th>\n",
       "      <td>AMT_PAYMENT_sum</td>\n",
       "      <td>-1.271404e-07</td>\n",
       "    </tr>\n",
       "    <tr>\n",
       "      <th>20</th>\n",
       "      <td>MONTHS_BALANCE_max_y</td>\n",
       "      <td>-1.712681e-07</td>\n",
       "    </tr>\n",
       "    <tr>\n",
       "      <th>0</th>\n",
       "      <td>DAYS_EMPLOYED</td>\n",
       "      <td>-9.570122e-07</td>\n",
       "    </tr>\n",
       "    <tr>\n",
       "      <th>3</th>\n",
       "      <td>DAYS_CREDIT_min</td>\n",
       "      <td>-2.449316e-06</td>\n",
       "    </tr>\n",
       "    <tr>\n",
       "      <th>22</th>\n",
       "      <td>DAYS_CREDIT_UPDATE_mean</td>\n",
       "      <td>-2.573822e-06</td>\n",
       "    </tr>\n",
       "    <tr>\n",
       "      <th>30</th>\n",
       "      <td>DAYS_ENTRY_PAYMENT_mean</td>\n",
       "      <td>-3.044938e-06</td>\n",
       "    </tr>\n",
       "    <tr>\n",
       "      <th>37</th>\n",
       "      <td>DAYS_DECISION_mean</td>\n",
       "      <td>-3.187633e-06</td>\n",
       "    </tr>\n",
       "    <tr>\n",
       "      <th>2</th>\n",
       "      <td>AMT_GOODS_PRICE</td>\n",
       "      <td>-3.561878e-06</td>\n",
       "    </tr>\n",
       "    <tr>\n",
       "      <th>39</th>\n",
       "      <td>DAYS_CREDIT_ENDDATE_max</td>\n",
       "      <td>-4.229767e-06</td>\n",
       "    </tr>\n",
       "    <tr>\n",
       "      <th>8</th>\n",
       "      <td>DAYS_CREDIT_UPDATE_max</td>\n",
       "      <td>-4.743463e-06</td>\n",
       "    </tr>\n",
       "    <tr>\n",
       "      <th>38</th>\n",
       "      <td>DAYS_CREDIT_mean</td>\n",
       "      <td>-4.775400e-06</td>\n",
       "    </tr>\n",
       "    <tr>\n",
       "      <th>6</th>\n",
       "      <td>DAYS_ENTRY_PAYMENT_max</td>\n",
       "      <td>-4.961268e-06</td>\n",
       "    </tr>\n",
       "    <tr>\n",
       "      <th>24</th>\n",
       "      <td>DAYS_ENTRY_PAYMENT_sum</td>\n",
       "      <td>-5.051369e-06</td>\n",
       "    </tr>\n",
       "    <tr>\n",
       "      <th>23</th>\n",
       "      <td>DAYS_CREDIT_max</td>\n",
       "      <td>-7.058530e-06</td>\n",
       "    </tr>\n",
       "    <tr>\n",
       "      <th>9</th>\n",
       "      <td>DAYS_ID_PUBLISH</td>\n",
       "      <td>-1.131022e-05</td>\n",
       "    </tr>\n",
       "    <tr>\n",
       "      <th>33</th>\n",
       "      <td>AMT_DOWN_PAYMENT_max</td>\n",
       "      <td>-1.444086e-05</td>\n",
       "    </tr>\n",
       "    <tr>\n",
       "      <th>32</th>\n",
       "      <td>DAYS_REGISTRATION</td>\n",
       "      <td>-1.824041e-05</td>\n",
       "    </tr>\n",
       "    <tr>\n",
       "      <th>41</th>\n",
       "      <td>AMT_ANNUITY</td>\n",
       "      <td>-1.961057e-05</td>\n",
       "    </tr>\n",
       "    <tr>\n",
       "      <th>18</th>\n",
       "      <td>AMT_PAYMENT_min</td>\n",
       "      <td>-2.507343e-05</td>\n",
       "    </tr>\n",
       "    <tr>\n",
       "      <th>16</th>\n",
       "      <td>DAYS_BIRTH</td>\n",
       "      <td>-5.294414e-05</td>\n",
       "    </tr>\n",
       "  </tbody>\n",
       "</table>\n",
       "</div>"
      ],
      "text/plain": [
       "                                    Feature        Coeff.\n",
       "11                  DAYS_CREDIT_ENDDATE_min  4.349471e-06\n",
       "36                               AMT_CREDIT  2.680843e-06\n",
       "14                 DAYS_CREDIT_ENDDATE_mean  7.173220e-07\n",
       "15                       AMT_INSTALMENT_max  4.423382e-07\n",
       "13                        SK_DPD_DEF_mean_y  2.013062e-09\n",
       "21      NAME_CONTRACT_STATUS_Refused_mean_y  8.360818e-11\n",
       "25  NAME_CONTRACT_TYPE_Revolving loans_mean -2.186760e-10\n",
       "27                     Annuity_Income_Ratio -2.991159e-10\n",
       "4                            LIVINGAREA_AVG -4.362840e-10\n",
       "1                             CODE_GENDER_M -4.912026e-10\n",
       "7      NAME_EDUCATION_TYPE_Higher education -1.581942e-09\n",
       "40                          FLAG_DOCUMENT_3 -1.954518e-09\n",
       "34                             EXT_SOURCE_1 -2.079779e-09\n",
       "12                 NAME_INCOME_TYPE_Working -2.198605e-09\n",
       "10                CREDIT_ACTIVE_Closed_mean -2.714398e-09\n",
       "35                             EXT_SOURCE_3 -2.763306e-09\n",
       "26                             EXT_SOURCE_2 -2.794297e-09\n",
       "5                       Income_Credit_Ratio -3.019670e-09\n",
       "19                        PAYMENT_PERC_mean -3.814827e-09\n",
       "29                     APP_CREDIT_PERC_mean -3.882772e-09\n",
       "17                      APP_CREDIT_PERC_max -4.166884e-09\n",
       "28                         CNT_PAYMENT_mean -3.380435e-08\n",
       "31                          AMT_PAYMENT_sum -1.271404e-07\n",
       "20                     MONTHS_BALANCE_max_y -1.712681e-07\n",
       "0                             DAYS_EMPLOYED -9.570122e-07\n",
       "3                           DAYS_CREDIT_min -2.449316e-06\n",
       "22                  DAYS_CREDIT_UPDATE_mean -2.573822e-06\n",
       "30                  DAYS_ENTRY_PAYMENT_mean -3.044938e-06\n",
       "37                       DAYS_DECISION_mean -3.187633e-06\n",
       "2                           AMT_GOODS_PRICE -3.561878e-06\n",
       "39                  DAYS_CREDIT_ENDDATE_max -4.229767e-06\n",
       "8                    DAYS_CREDIT_UPDATE_max -4.743463e-06\n",
       "38                         DAYS_CREDIT_mean -4.775400e-06\n",
       "6                    DAYS_ENTRY_PAYMENT_max -4.961268e-06\n",
       "24                   DAYS_ENTRY_PAYMENT_sum -5.051369e-06\n",
       "23                          DAYS_CREDIT_max -7.058530e-06\n",
       "9                           DAYS_ID_PUBLISH -1.131022e-05\n",
       "33                     AMT_DOWN_PAYMENT_max -1.444086e-05\n",
       "32                        DAYS_REGISTRATION -1.824041e-05\n",
       "41                              AMT_ANNUITY -1.961057e-05\n",
       "18                          AMT_PAYMENT_min -2.507343e-05\n",
       "16                               DAYS_BIRTH -5.294414e-05"
      ]
     },
     "execution_count": 41,
     "metadata": {},
     "output_type": "execute_result"
    }
   ],
   "source": [
    "df_coefs.sort_values(by=\"Coeff.\", ascending=False)"
   ]
  },
  {
   "cell_type": "markdown",
   "metadata": {},
   "source": [
    "## Want to take a look at absolute magnitude of the coefficients to get most important ones for this model/eliminate some of the features that have small absolute coefficients"
   ]
  },
  {
   "cell_type": "code",
   "execution_count": 43,
   "metadata": {},
   "outputs": [],
   "source": [
    "df_coefs['abs Coeff.'] = np.abs(df_coefs['Coeff.'])"
   ]
  },
  {
   "cell_type": "code",
   "execution_count": 50,
   "metadata": {},
   "outputs": [],
   "source": [
    "df_order_mag = df_coefs.sort_values(by=\"abs Coeff.\",ascending=False).reset_index(drop=True)"
   ]
  },
  {
   "cell_type": "code",
   "execution_count": 51,
   "metadata": {},
   "outputs": [
    {
     "data": {
      "text/html": [
       "<div>\n",
       "<style scoped>\n",
       "    .dataframe tbody tr th:only-of-type {\n",
       "        vertical-align: middle;\n",
       "    }\n",
       "\n",
       "    .dataframe tbody tr th {\n",
       "        vertical-align: top;\n",
       "    }\n",
       "\n",
       "    .dataframe thead th {\n",
       "        text-align: right;\n",
       "    }\n",
       "</style>\n",
       "<table border=\"1\" class=\"dataframe\">\n",
       "  <thead>\n",
       "    <tr style=\"text-align: right;\">\n",
       "      <th></th>\n",
       "      <th>Feature</th>\n",
       "      <th>Coeff.</th>\n",
       "      <th>abs Coeff.</th>\n",
       "    </tr>\n",
       "  </thead>\n",
       "  <tbody>\n",
       "    <tr>\n",
       "      <th>0</th>\n",
       "      <td>DAYS_BIRTH</td>\n",
       "      <td>-5.294414e-05</td>\n",
       "      <td>5.294414e-05</td>\n",
       "    </tr>\n",
       "    <tr>\n",
       "      <th>1</th>\n",
       "      <td>AMT_PAYMENT_min</td>\n",
       "      <td>-2.507343e-05</td>\n",
       "      <td>2.507343e-05</td>\n",
       "    </tr>\n",
       "    <tr>\n",
       "      <th>2</th>\n",
       "      <td>AMT_ANNUITY</td>\n",
       "      <td>-1.961057e-05</td>\n",
       "      <td>1.961057e-05</td>\n",
       "    </tr>\n",
       "    <tr>\n",
       "      <th>3</th>\n",
       "      <td>DAYS_REGISTRATION</td>\n",
       "      <td>-1.824041e-05</td>\n",
       "      <td>1.824041e-05</td>\n",
       "    </tr>\n",
       "    <tr>\n",
       "      <th>4</th>\n",
       "      <td>AMT_DOWN_PAYMENT_max</td>\n",
       "      <td>-1.444086e-05</td>\n",
       "      <td>1.444086e-05</td>\n",
       "    </tr>\n",
       "    <tr>\n",
       "      <th>5</th>\n",
       "      <td>DAYS_ID_PUBLISH</td>\n",
       "      <td>-1.131022e-05</td>\n",
       "      <td>1.131022e-05</td>\n",
       "    </tr>\n",
       "    <tr>\n",
       "      <th>6</th>\n",
       "      <td>DAYS_CREDIT_max</td>\n",
       "      <td>-7.058530e-06</td>\n",
       "      <td>7.058530e-06</td>\n",
       "    </tr>\n",
       "    <tr>\n",
       "      <th>7</th>\n",
       "      <td>DAYS_ENTRY_PAYMENT_sum</td>\n",
       "      <td>-5.051369e-06</td>\n",
       "      <td>5.051369e-06</td>\n",
       "    </tr>\n",
       "    <tr>\n",
       "      <th>8</th>\n",
       "      <td>DAYS_ENTRY_PAYMENT_max</td>\n",
       "      <td>-4.961268e-06</td>\n",
       "      <td>4.961268e-06</td>\n",
       "    </tr>\n",
       "    <tr>\n",
       "      <th>9</th>\n",
       "      <td>DAYS_CREDIT_mean</td>\n",
       "      <td>-4.775400e-06</td>\n",
       "      <td>4.775400e-06</td>\n",
       "    </tr>\n",
       "    <tr>\n",
       "      <th>10</th>\n",
       "      <td>DAYS_CREDIT_UPDATE_max</td>\n",
       "      <td>-4.743463e-06</td>\n",
       "      <td>4.743463e-06</td>\n",
       "    </tr>\n",
       "    <tr>\n",
       "      <th>11</th>\n",
       "      <td>DAYS_CREDIT_ENDDATE_min</td>\n",
       "      <td>4.349471e-06</td>\n",
       "      <td>4.349471e-06</td>\n",
       "    </tr>\n",
       "    <tr>\n",
       "      <th>12</th>\n",
       "      <td>DAYS_CREDIT_ENDDATE_max</td>\n",
       "      <td>-4.229767e-06</td>\n",
       "      <td>4.229767e-06</td>\n",
       "    </tr>\n",
       "    <tr>\n",
       "      <th>13</th>\n",
       "      <td>AMT_GOODS_PRICE</td>\n",
       "      <td>-3.561878e-06</td>\n",
       "      <td>3.561878e-06</td>\n",
       "    </tr>\n",
       "    <tr>\n",
       "      <th>14</th>\n",
       "      <td>DAYS_DECISION_mean</td>\n",
       "      <td>-3.187633e-06</td>\n",
       "      <td>3.187633e-06</td>\n",
       "    </tr>\n",
       "    <tr>\n",
       "      <th>15</th>\n",
       "      <td>DAYS_ENTRY_PAYMENT_mean</td>\n",
       "      <td>-3.044938e-06</td>\n",
       "      <td>3.044938e-06</td>\n",
       "    </tr>\n",
       "    <tr>\n",
       "      <th>16</th>\n",
       "      <td>AMT_CREDIT</td>\n",
       "      <td>2.680843e-06</td>\n",
       "      <td>2.680843e-06</td>\n",
       "    </tr>\n",
       "    <tr>\n",
       "      <th>17</th>\n",
       "      <td>DAYS_CREDIT_UPDATE_mean</td>\n",
       "      <td>-2.573822e-06</td>\n",
       "      <td>2.573822e-06</td>\n",
       "    </tr>\n",
       "    <tr>\n",
       "      <th>18</th>\n",
       "      <td>DAYS_CREDIT_min</td>\n",
       "      <td>-2.449316e-06</td>\n",
       "      <td>2.449316e-06</td>\n",
       "    </tr>\n",
       "    <tr>\n",
       "      <th>19</th>\n",
       "      <td>DAYS_EMPLOYED</td>\n",
       "      <td>-9.570122e-07</td>\n",
       "      <td>9.570122e-07</td>\n",
       "    </tr>\n",
       "    <tr>\n",
       "      <th>20</th>\n",
       "      <td>DAYS_CREDIT_ENDDATE_mean</td>\n",
       "      <td>7.173220e-07</td>\n",
       "      <td>7.173220e-07</td>\n",
       "    </tr>\n",
       "    <tr>\n",
       "      <th>21</th>\n",
       "      <td>AMT_INSTALMENT_max</td>\n",
       "      <td>4.423382e-07</td>\n",
       "      <td>4.423382e-07</td>\n",
       "    </tr>\n",
       "    <tr>\n",
       "      <th>22</th>\n",
       "      <td>MONTHS_BALANCE_max_y</td>\n",
       "      <td>-1.712681e-07</td>\n",
       "      <td>1.712681e-07</td>\n",
       "    </tr>\n",
       "    <tr>\n",
       "      <th>23</th>\n",
       "      <td>AMT_PAYMENT_sum</td>\n",
       "      <td>-1.271404e-07</td>\n",
       "      <td>1.271404e-07</td>\n",
       "    </tr>\n",
       "    <tr>\n",
       "      <th>24</th>\n",
       "      <td>CNT_PAYMENT_mean</td>\n",
       "      <td>-3.380435e-08</td>\n",
       "      <td>3.380435e-08</td>\n",
       "    </tr>\n",
       "    <tr>\n",
       "      <th>25</th>\n",
       "      <td>APP_CREDIT_PERC_max</td>\n",
       "      <td>-4.166884e-09</td>\n",
       "      <td>4.166884e-09</td>\n",
       "    </tr>\n",
       "    <tr>\n",
       "      <th>26</th>\n",
       "      <td>APP_CREDIT_PERC_mean</td>\n",
       "      <td>-3.882772e-09</td>\n",
       "      <td>3.882772e-09</td>\n",
       "    </tr>\n",
       "    <tr>\n",
       "      <th>27</th>\n",
       "      <td>PAYMENT_PERC_mean</td>\n",
       "      <td>-3.814827e-09</td>\n",
       "      <td>3.814827e-09</td>\n",
       "    </tr>\n",
       "    <tr>\n",
       "      <th>28</th>\n",
       "      <td>Income_Credit_Ratio</td>\n",
       "      <td>-3.019670e-09</td>\n",
       "      <td>3.019670e-09</td>\n",
       "    </tr>\n",
       "    <tr>\n",
       "      <th>29</th>\n",
       "      <td>EXT_SOURCE_2</td>\n",
       "      <td>-2.794297e-09</td>\n",
       "      <td>2.794297e-09</td>\n",
       "    </tr>\n",
       "    <tr>\n",
       "      <th>30</th>\n",
       "      <td>EXT_SOURCE_3</td>\n",
       "      <td>-2.763306e-09</td>\n",
       "      <td>2.763306e-09</td>\n",
       "    </tr>\n",
       "    <tr>\n",
       "      <th>31</th>\n",
       "      <td>CREDIT_ACTIVE_Closed_mean</td>\n",
       "      <td>-2.714398e-09</td>\n",
       "      <td>2.714398e-09</td>\n",
       "    </tr>\n",
       "    <tr>\n",
       "      <th>32</th>\n",
       "      <td>NAME_INCOME_TYPE_Working</td>\n",
       "      <td>-2.198605e-09</td>\n",
       "      <td>2.198605e-09</td>\n",
       "    </tr>\n",
       "    <tr>\n",
       "      <th>33</th>\n",
       "      <td>EXT_SOURCE_1</td>\n",
       "      <td>-2.079779e-09</td>\n",
       "      <td>2.079779e-09</td>\n",
       "    </tr>\n",
       "    <tr>\n",
       "      <th>34</th>\n",
       "      <td>SK_DPD_DEF_mean_y</td>\n",
       "      <td>2.013062e-09</td>\n",
       "      <td>2.013062e-09</td>\n",
       "    </tr>\n",
       "    <tr>\n",
       "      <th>35</th>\n",
       "      <td>FLAG_DOCUMENT_3</td>\n",
       "      <td>-1.954518e-09</td>\n",
       "      <td>1.954518e-09</td>\n",
       "    </tr>\n",
       "    <tr>\n",
       "      <th>36</th>\n",
       "      <td>NAME_EDUCATION_TYPE_Higher education</td>\n",
       "      <td>-1.581942e-09</td>\n",
       "      <td>1.581942e-09</td>\n",
       "    </tr>\n",
       "    <tr>\n",
       "      <th>37</th>\n",
       "      <td>CODE_GENDER_M</td>\n",
       "      <td>-4.912026e-10</td>\n",
       "      <td>4.912026e-10</td>\n",
       "    </tr>\n",
       "    <tr>\n",
       "      <th>38</th>\n",
       "      <td>LIVINGAREA_AVG</td>\n",
       "      <td>-4.362840e-10</td>\n",
       "      <td>4.362840e-10</td>\n",
       "    </tr>\n",
       "    <tr>\n",
       "      <th>39</th>\n",
       "      <td>Annuity_Income_Ratio</td>\n",
       "      <td>-2.991159e-10</td>\n",
       "      <td>2.991159e-10</td>\n",
       "    </tr>\n",
       "    <tr>\n",
       "      <th>40</th>\n",
       "      <td>NAME_CONTRACT_TYPE_Revolving loans_mean</td>\n",
       "      <td>-2.186760e-10</td>\n",
       "      <td>2.186760e-10</td>\n",
       "    </tr>\n",
       "    <tr>\n",
       "      <th>41</th>\n",
       "      <td>NAME_CONTRACT_STATUS_Refused_mean_y</td>\n",
       "      <td>8.360818e-11</td>\n",
       "      <td>8.360818e-11</td>\n",
       "    </tr>\n",
       "  </tbody>\n",
       "</table>\n",
       "</div>"
      ],
      "text/plain": [
       "                                    Feature        Coeff.    abs Coeff.\n",
       "0                                DAYS_BIRTH -5.294414e-05  5.294414e-05\n",
       "1                           AMT_PAYMENT_min -2.507343e-05  2.507343e-05\n",
       "2                               AMT_ANNUITY -1.961057e-05  1.961057e-05\n",
       "3                         DAYS_REGISTRATION -1.824041e-05  1.824041e-05\n",
       "4                      AMT_DOWN_PAYMENT_max -1.444086e-05  1.444086e-05\n",
       "5                           DAYS_ID_PUBLISH -1.131022e-05  1.131022e-05\n",
       "6                           DAYS_CREDIT_max -7.058530e-06  7.058530e-06\n",
       "7                    DAYS_ENTRY_PAYMENT_sum -5.051369e-06  5.051369e-06\n",
       "8                    DAYS_ENTRY_PAYMENT_max -4.961268e-06  4.961268e-06\n",
       "9                          DAYS_CREDIT_mean -4.775400e-06  4.775400e-06\n",
       "10                   DAYS_CREDIT_UPDATE_max -4.743463e-06  4.743463e-06\n",
       "11                  DAYS_CREDIT_ENDDATE_min  4.349471e-06  4.349471e-06\n",
       "12                  DAYS_CREDIT_ENDDATE_max -4.229767e-06  4.229767e-06\n",
       "13                          AMT_GOODS_PRICE -3.561878e-06  3.561878e-06\n",
       "14                       DAYS_DECISION_mean -3.187633e-06  3.187633e-06\n",
       "15                  DAYS_ENTRY_PAYMENT_mean -3.044938e-06  3.044938e-06\n",
       "16                               AMT_CREDIT  2.680843e-06  2.680843e-06\n",
       "17                  DAYS_CREDIT_UPDATE_mean -2.573822e-06  2.573822e-06\n",
       "18                          DAYS_CREDIT_min -2.449316e-06  2.449316e-06\n",
       "19                            DAYS_EMPLOYED -9.570122e-07  9.570122e-07\n",
       "20                 DAYS_CREDIT_ENDDATE_mean  7.173220e-07  7.173220e-07\n",
       "21                       AMT_INSTALMENT_max  4.423382e-07  4.423382e-07\n",
       "22                     MONTHS_BALANCE_max_y -1.712681e-07  1.712681e-07\n",
       "23                          AMT_PAYMENT_sum -1.271404e-07  1.271404e-07\n",
       "24                         CNT_PAYMENT_mean -3.380435e-08  3.380435e-08\n",
       "25                      APP_CREDIT_PERC_max -4.166884e-09  4.166884e-09\n",
       "26                     APP_CREDIT_PERC_mean -3.882772e-09  3.882772e-09\n",
       "27                        PAYMENT_PERC_mean -3.814827e-09  3.814827e-09\n",
       "28                      Income_Credit_Ratio -3.019670e-09  3.019670e-09\n",
       "29                             EXT_SOURCE_2 -2.794297e-09  2.794297e-09\n",
       "30                             EXT_SOURCE_3 -2.763306e-09  2.763306e-09\n",
       "31                CREDIT_ACTIVE_Closed_mean -2.714398e-09  2.714398e-09\n",
       "32                 NAME_INCOME_TYPE_Working -2.198605e-09  2.198605e-09\n",
       "33                             EXT_SOURCE_1 -2.079779e-09  2.079779e-09\n",
       "34                        SK_DPD_DEF_mean_y  2.013062e-09  2.013062e-09\n",
       "35                          FLAG_DOCUMENT_3 -1.954518e-09  1.954518e-09\n",
       "36     NAME_EDUCATION_TYPE_Higher education -1.581942e-09  1.581942e-09\n",
       "37                            CODE_GENDER_M -4.912026e-10  4.912026e-10\n",
       "38                           LIVINGAREA_AVG -4.362840e-10  4.362840e-10\n",
       "39                     Annuity_Income_Ratio -2.991159e-10  2.991159e-10\n",
       "40  NAME_CONTRACT_TYPE_Revolving loans_mean -2.186760e-10  2.186760e-10\n",
       "41      NAME_CONTRACT_STATUS_Refused_mean_y  8.360818e-11  8.360818e-11"
      ]
     },
     "execution_count": 51,
     "metadata": {},
     "output_type": "execute_result"
    }
   ],
   "source": [
    "df_order_mag"
   ]
  },
  {
   "cell_type": "code",
   "execution_count": 57,
   "metadata": {},
   "outputs": [],
   "source": [
    "more_important_columns = list(df_order_mag.iloc[:24,0].values)"
   ]
  },
  {
   "cell_type": "code",
   "execution_count": 81,
   "metadata": {},
   "outputs": [],
   "source": [
    "with open(\"most_important_columns.pkl\",'wb') as f:\n",
    "    pickle.dump(more_important_columns,f)"
   ]
  },
  {
   "cell_type": "code",
   "execution_count": 60,
   "metadata": {},
   "outputs": [],
   "source": [
    "df_less_features = df_one_hot[['TARGET']+more_important_columns]"
   ]
  },
  {
   "cell_type": "code",
   "execution_count": 61,
   "metadata": {},
   "outputs": [],
   "source": [
    "X = df_less_features.drop(['TARGET'],axis=1)\n",
    "y = df_less_features['TARGET'].values"
   ]
  },
  {
   "cell_type": "code",
   "execution_count": 62,
   "metadata": {},
   "outputs": [],
   "source": [
    "X_train, X_test,y_train,y_test = train_test_split(X,y)"
   ]
  },
  {
   "cell_type": "code",
   "execution_count": 63,
   "metadata": {},
   "outputs": [],
   "source": [
    "del X,y"
   ]
  },
  {
   "cell_type": "code",
   "execution_count": 72,
   "metadata": {},
   "outputs": [
    {
     "data": {
      "text/plain": [
       "array([424086,  37146])"
      ]
     },
     "execution_count": 72,
     "metadata": {},
     "output_type": "execute_result"
    }
   ],
   "source": [
    "2*np.bincount(y_train.astype(int))"
   ]
  },
  {
   "cell_type": "code",
   "execution_count": 73,
   "metadata": {},
   "outputs": [],
   "source": [
    "penalties=['l1','l2','elasticnet']\n",
    "class_weight = ['balanced',None]"
   ]
  },
  {
   "cell_type": "code",
   "execution_count": 75,
   "metadata": {},
   "outputs": [
    {
     "name": "stderr",
     "output_type": "stream",
     "text": [
      "/home/ubuntu/anaconda3/envs/ds_env/lib/python3.7/site-packages/sklearn/linear_model/logistic.py:1506: UserWarning: l1_ratio parameter is only used when penalty is 'elasticnet'. Got (penalty=l1)\n",
      "  \"(penalty={})\".format(self.penalty))\n",
      "/home/ubuntu/anaconda3/envs/ds_env/lib/python3.7/site-packages/sklearn/linear_model/sag.py:337: ConvergenceWarning: The max_iter was reached which means the coef_ did not converge\n",
      "  \"the coef_ did not converge\", ConvergenceWarning)\n",
      "/home/ubuntu/anaconda3/envs/ds_env/lib/python3.7/site-packages/sklearn/linear_model/logistic.py:1506: UserWarning: l1_ratio parameter is only used when penalty is 'elasticnet'. Got (penalty=l1)\n",
      "  \"(penalty={})\".format(self.penalty))\n"
     ]
    },
    {
     "name": "stdout",
     "output_type": "stream",
     "text": [
      "Logistic Regression with penalty: l1\n",
      "Class_Weight = balanced\n",
      "Score = 0.62\n",
      "\n"
     ]
    },
    {
     "name": "stderr",
     "output_type": "stream",
     "text": [
      "/home/ubuntu/anaconda3/envs/ds_env/lib/python3.7/site-packages/sklearn/linear_model/sag.py:337: ConvergenceWarning: The max_iter was reached which means the coef_ did not converge\n",
      "  \"the coef_ did not converge\", ConvergenceWarning)\n",
      "/home/ubuntu/anaconda3/envs/ds_env/lib/python3.7/site-packages/sklearn/linear_model/logistic.py:1506: UserWarning: l1_ratio parameter is only used when penalty is 'elasticnet'. Got (penalty=l2)\n",
      "  \"(penalty={})\".format(self.penalty))\n"
     ]
    },
    {
     "name": "stdout",
     "output_type": "stream",
     "text": [
      "Logistic Regression with penalty: l1\n",
      "Class_Weight = None\n",
      "Score = 0.6243\n",
      "\n"
     ]
    },
    {
     "name": "stderr",
     "output_type": "stream",
     "text": [
      "/home/ubuntu/anaconda3/envs/ds_env/lib/python3.7/site-packages/sklearn/linear_model/sag.py:337: ConvergenceWarning: The max_iter was reached which means the coef_ did not converge\n",
      "  \"the coef_ did not converge\", ConvergenceWarning)\n",
      "/home/ubuntu/anaconda3/envs/ds_env/lib/python3.7/site-packages/sklearn/linear_model/logistic.py:1506: UserWarning: l1_ratio parameter is only used when penalty is 'elasticnet'. Got (penalty=l2)\n",
      "  \"(penalty={})\".format(self.penalty))\n"
     ]
    },
    {
     "name": "stdout",
     "output_type": "stream",
     "text": [
      "Logistic Regression with penalty: l2\n",
      "Class_Weight = balanced\n",
      "Score = 0.62\n",
      "\n"
     ]
    },
    {
     "name": "stderr",
     "output_type": "stream",
     "text": [
      "/home/ubuntu/anaconda3/envs/ds_env/lib/python3.7/site-packages/sklearn/linear_model/sag.py:337: ConvergenceWarning: The max_iter was reached which means the coef_ did not converge\n",
      "  \"the coef_ did not converge\", ConvergenceWarning)\n"
     ]
    },
    {
     "name": "stdout",
     "output_type": "stream",
     "text": [
      "Logistic Regression with penalty: l2\n",
      "Class_Weight = None\n",
      "Score = 0.6243\n",
      "\n"
     ]
    },
    {
     "name": "stderr",
     "output_type": "stream",
     "text": [
      "/home/ubuntu/anaconda3/envs/ds_env/lib/python3.7/site-packages/sklearn/linear_model/sag.py:337: ConvergenceWarning: The max_iter was reached which means the coef_ did not converge\n",
      "  \"the coef_ did not converge\", ConvergenceWarning)\n"
     ]
    },
    {
     "name": "stdout",
     "output_type": "stream",
     "text": [
      "Logistic Regression with penalty: elasticnet\n",
      "Class_Weight = balanced\n",
      "Score = 0.62\n",
      "\n",
      "Logistic Regression with penalty: elasticnet\n",
      "Class_Weight = None\n",
      "Score = 0.6243\n",
      "\n"
     ]
    },
    {
     "name": "stderr",
     "output_type": "stream",
     "text": [
      "/home/ubuntu/anaconda3/envs/ds_env/lib/python3.7/site-packages/sklearn/linear_model/sag.py:337: ConvergenceWarning: The max_iter was reached which means the coef_ did not converge\n",
      "  \"the coef_ did not converge\", ConvergenceWarning)\n"
     ]
    }
   ],
   "source": [
    "for pen in penalties:\n",
    "    for weight in class_weight:\n",
    "        \n",
    "        model = LogisticRegression(penalty=pen,solver='saga',\n",
    "                               n_jobs=-1,max_iter=400,\n",
    "                              l1_ratio=0.5,class_weight=weight)\n",
    "        model.fit(X_train,y_train)\n",
    "        preds = model.predict_proba(X_test)[:,1]\n",
    "        auc = roc_auc_score(y_test,preds)\n",
    "        print(f\"Logistic Regression with penalty: {pen}\\nClass_Weight = {weight}\\nScore = {round(auc,4)}\\n\")\n",
    "        "
   ]
  },
  {
   "cell_type": "markdown",
   "metadata": {},
   "source": [
    "##  I am going to use best Logistic Model, penalty=\"elasticnet\" and no special class weight parameter"
   ]
  },
  {
   "cell_type": "code",
   "execution_count": 76,
   "metadata": {},
   "outputs": [
    {
     "name": "stderr",
     "output_type": "stream",
     "text": [
      "/home/ubuntu/anaconda3/envs/ds_env/lib/python3.7/site-packages/sklearn/linear_model/sag.py:337: ConvergenceWarning: The max_iter was reached which means the coef_ did not converge\n",
      "  \"the coef_ did not converge\", ConvergenceWarning)\n"
     ]
    },
    {
     "data": {
      "text/plain": [
       "LogisticRegression(C=1.0, class_weight=None, dual=False, fit_intercept=True,\n",
       "                   intercept_scaling=1, l1_ratio=0.5, max_iter=400,\n",
       "                   multi_class='warn', n_jobs=-1, penalty='elasticnet',\n",
       "                   random_state=None, solver='saga', tol=0.0001, verbose=0,\n",
       "                   warm_start=False)"
      ]
     },
     "execution_count": 76,
     "metadata": {},
     "output_type": "execute_result"
    }
   ],
   "source": [
    "model = LogisticRegression(penalty='elasticnet',solver='saga',\n",
    "                               n_jobs=-1,max_iter=400,\n",
    "                              l1_ratio=0.5)\n",
    "model.fit(X_train,y_train)"
   ]
  },
  {
   "cell_type": "code",
   "execution_count": 77,
   "metadata": {},
   "outputs": [
    {
     "data": {
      "text/plain": [
       "0.6243445313849596"
      ]
     },
     "execution_count": 77,
     "metadata": {},
     "output_type": "execute_result"
    }
   ],
   "source": [
    "preds = model.predict_proba(X_test)[:,1]\n",
    "auc = roc_auc_score(y_test,preds)\n",
    "auc"
   ]
  },
  {
   "cell_type": "code",
   "execution_count": 78,
   "metadata": {},
   "outputs": [],
   "source": [
    "#with open(\"Logistic_Reg_Model.pkl\", \"wb\") as f:\n",
    " #   pickle.dump(model,f)"
   ]
  },
  {
   "cell_type": "code",
   "execution_count": null,
   "metadata": {},
   "outputs": [],
   "source": []
  },
  {
   "cell_type": "code",
   "execution_count": 79,
   "metadata": {},
   "outputs": [
    {
     "name": "stdout",
     "output_type": "stream",
     "text": [
      "Logistic_Reg_Model.pkl\t     xgboost_w_out_clean_null.pkl\r\n",
      "top_feature_importances.pkl\r\n"
     ]
    }
   ],
   "source": [
    "!ls *.pkl"
   ]
  },
  {
   "cell_type": "code",
   "execution_count": null,
   "metadata": {},
   "outputs": [],
   "source": []
  }
 ],
 "metadata": {
  "kernelspec": {
   "display_name": "Python 3",
   "language": "python",
   "name": "python3"
  },
  "language_info": {
   "codemirror_mode": {
    "name": "ipython",
    "version": 3
   },
   "file_extension": ".py",
   "mimetype": "text/x-python",
   "name": "python",
   "nbconvert_exporter": "python",
   "pygments_lexer": "ipython3",
   "version": "3.7.3"
  }
 },
 "nbformat": 4,
 "nbformat_minor": 2
}
